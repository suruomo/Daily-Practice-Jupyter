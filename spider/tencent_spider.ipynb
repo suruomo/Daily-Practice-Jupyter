{
 "cells": [
  {
   "cell_type": "code",
   "execution_count": 46,
   "metadata": {},
   "outputs": [
    {
     "name": "stdout",
     "output_type": "stream",
     "text": [
      "['30361-创新产品ios开发工程师', 'ZL-商业分析经理（CSIG方向）', '18427-金融科技金融交易系统架构师（深圳）', '32032-资深UI美术（上海）', 'PCG14-游戏内容运营（深圳）', 'CB-海外人力资源经理（组织发展方向）', 'CB-海外人力资源经理（培训&文化方向）', '26833-领导力发展专家', 'WXG09-微信泛娱乐营销经理（广州）', 'WXG09-332 微信整合营销市场经理（广州）']\n"
     ]
    }
   ],
   "source": [
    "import requests\n",
    "from selenium.webdriver import Chrome,ChromeOptions\n",
    "\n",
    "# 爬取腾讯招聘网站\n",
    "# 动态网页，使用browser.page_source获取渲染后的网站源码\n",
    "url=\"https://careers.tencent.com/search.html?index=1\"\n",
    "option = ChromeOptions()\n",
    "option.add_argument(\"--headless\")#隐藏游览器\n",
    "option.add_argument(\"--no--sandbox\")\n",
    "browser =  Chrome(options = option,executable_path=\"chromedriver.exe\")\n",
    "browser.get(url)\n",
    "html=browser.page_source\n",
    "content=browser.find_elements_by_xpath(\"//*[@class='recruit-list-link']/h4\")\n",
    "c=[i.text for i in content]\n",
    "print(c)"
   ]
  },
  {
   "cell_type": "code",
   "execution_count": null,
   "metadata": {},
   "outputs": [],
   "source": []
  }
 ],
 "metadata": {
  "kernelspec": {
   "display_name": "Python 3",
   "language": "python",
   "name": "python3"
  },
  "language_info": {
   "codemirror_mode": {
    "name": "ipython",
    "version": 3
   },
   "file_extension": ".py",
   "mimetype": "text/x-python",
   "name": "python",
   "nbconvert_exporter": "python",
   "pygments_lexer": "ipython3",
   "version": "3.7.3"
  }
 },
 "nbformat": 4,
 "nbformat_minor": 4
}
