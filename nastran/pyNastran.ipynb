{
 "cells": [
  {
   "cell_type": "markdown",
   "metadata": {},
   "source": [
    "# 1.test_bdf demo"
   ]
  },
  {
   "cell_type": "code",
   "execution_count": null,
   "metadata": {},
   "outputs": [],
   "source": [
    "from IPython.display import HTML as html_print\n",
    "from pyNastran.bdf.bdf import BDF, read_bdf, CaseControlDeck\n"
   ]
  },
  {
   "cell_type": "markdown",
   "metadata": {},
   "source": [
    "## 1.1 写bdf"
   ]
  },
  {
   "cell_type": "code",
   "execution_count": 1,
   "metadata": {},
   "outputs": [
    {
     "ename": "NameError",
     "evalue": "name 'BDF' is not defined",
     "output_type": "error",
     "traceback": [
      "\u001B[1;31m---------------------------------------------------------------------------\u001B[0m",
      "\u001B[1;31mNameError\u001B[0m                                 Traceback (most recent call last)",
      "\u001B[1;32m<ipython-input-1-8bc49902418d>\u001B[0m in \u001B[0;36m<module>\u001B[1;34m\u001B[0m\n\u001B[1;32m----> 1\u001B[1;33m \u001B[0mmodel\u001B[0m \u001B[1;33m=\u001B[0m \u001B[0mBDF\u001B[0m\u001B[1;33m(\u001B[0m\u001B[1;33m)\u001B[0m\u001B[1;33m\u001B[0m\u001B[1;33m\u001B[0m\u001B[0m\n\u001B[0m\u001B[0;32m      2\u001B[0m \u001B[1;33m\u001B[0m\u001B[0m\n\u001B[0;32m      3\u001B[0m \u001B[1;31m# add_grid(nid, xyz, cp=0, cd=0, ps='', seid=0)\u001B[0m\u001B[1;33m\u001B[0m\u001B[1;33m\u001B[0m\u001B[1;33m\u001B[0m\u001B[0m\n\u001B[0;32m      4\u001B[0m \u001B[0mmodel\u001B[0m\u001B[1;33m.\u001B[0m\u001B[0madd_grid\u001B[0m\u001B[1;33m(\u001B[0m\u001B[1;36m1\u001B[0m\u001B[1;33m,\u001B[0m \u001B[1;33m[\u001B[0m\u001B[1;36m0.\u001B[0m\u001B[1;33m,\u001B[0m \u001B[1;36m0.\u001B[0m\u001B[1;33m,\u001B[0m \u001B[1;36m0.\u001B[0m\u001B[1;33m]\u001B[0m\u001B[1;33m)\u001B[0m\u001B[1;33m\u001B[0m\u001B[1;33m\u001B[0m\u001B[0m\n\u001B[0;32m      5\u001B[0m \u001B[0mmodel\u001B[0m\u001B[1;33m.\u001B[0m\u001B[0madd_grid\u001B[0m\u001B[1;33m(\u001B[0m\u001B[1;36m2\u001B[0m\u001B[1;33m,\u001B[0m \u001B[1;33m[\u001B[0m\u001B[1;36m1.\u001B[0m\u001B[1;33m,\u001B[0m \u001B[1;36m0.\u001B[0m\u001B[1;33m,\u001B[0m \u001B[1;36m0.\u001B[0m\u001B[1;33m]\u001B[0m\u001B[1;33m)\u001B[0m\u001B[1;33m\u001B[0m\u001B[1;33m\u001B[0m\u001B[0m\n",
      "\u001B[1;31mNameError\u001B[0m: name 'BDF' is not defined"
     ]
    }
   ],
   "source": [
    "model = BDF()\n",
    "\n",
    "# add_grid(nid, xyz, cp=0, cd=0, ps='', seid=0)\n",
    "model.add_grid(1, [0., 0., 0.])\n",
    "model.add_grid(2, [1., 0., 0.])\n",
    "model.add_grid(3, [1., 1., 0.])\n",
    "model.add_grid(4, [0., 1., 0.])\n",
    "\n",
    "eid = 10\n",
    "pid = 100\n",
    "mid = 1000\n",
    "# add_cbar(eid, pid, nids, x, g0, offt='GGG', pa=0, pb=0, wa=None, wb=None)\n",
    "model.add_cbar(eid,   pid, [1, 2], [0., 0., 1.], None, offt='GGG')\n",
    "model.add_cbar(eid+1, pid, [2, 3], [0., 0., 1.], None, offt='GGG')\n",
    "model.add_cbar(eid+2, pid, [3, 4], [0., 0., 1.], None, offt='GGG')\n",
    "model.add_cbar(eid+3, pid, [4, 1], [0., 0., 1.], None, offt='GGG')\n",
    "\n",
    "eid_cquad4 = 15\n",
    "pid_pshell = 101\n",
    "# add_pshell(pid, mid1=None, t=None, mid2=None, twelveIt3=1.0,\n",
    "#            mid3=None, tst=0.833333,\n",
    "#            nsm=0.0, z1=None, z2=None, mid4=None)\n",
    "model.add_pshell(pid_pshell, mid1=mid, t=0.1, mid2=mid, mid3=mid)\n",
    "model.add_cquad4(eid_cquad4, pid_pshell, [1, 2, 3, 4])\n",
    "\n",
    "dim = [3., 3., 1., 1.] # TODO: should be [1., 2., 3., 4.]\n",
    "# add_pbarl(pid, mid, Type, dim, group='MSCBML0', nsm=0.0)\n",
    "pbarl = model.add_pbarl(pid, mid, 'BOX', dim, nsm=0.0)\n",
    "pbarl.validate()\n",
    "\n",
    "E = 3.e7\n",
    "G = None\n",
    "nu = 0.3\n",
    "mat = model.add_mat1(mid, E, G, nu)\n",
    "\n",
    "spc_id = 1\n",
    "nids = 1\n",
    "# add_spc1(conid, components, nodes\n",
    "model.add_spc1(spc_id, 123456, nids)\n",
    "\n",
    "\n",
    "dresp_id = 100\n",
    "label = 'resp1'\n",
    "response_type = 'STRESS'\n",
    "property_type = 'PSHELL'\n",
    "pid = 3\n",
    "atta = 9 # von mises upper surface stress\n",
    "region = None\n",
    "attb = None\n",
    "atti = [pid_pshell]\n",
    "# add_dresp1(dresp_id, label, response_type, property_type, region, atta, attb, atti)\n",
    "model.add_dresp1(dresp_id, label, response_type, property_type, region, atta, attb, atti)\n",
    "\n",
    "dresp_id += 1\n",
    "atta = 17 # von mises lower surface stress\n",
    "model.add_dresp1(dresp_id, label, response_type, property_type, region, atta, attb, atti)\n",
    "\n",
    "# add_dconstr(oid, dresp_id, lid=-1e+20, uid=1e+20, lowfq=0.0, highfq=1e+20)\n",
    "dconstr_id = 10000\n",
    "model.add_dconstr(dconstr_id, dresp_id, lid=-35000., uid=35000.)\n",
    "\n",
    "dresp_id += 1\n",
    "dresp = model.add_dresp1(dresp_id, 'WT', 'WEIGHT', None, None, None, None, None)\n",
    "dresp.validate()\n",
    "\n",
    "oid = 1000\n",
    "dvids = 1\n",
    "coeffs = 1.\n",
    "# add_dvprel1(oid, prop_type, pid, pname_fid, dvids, coeffs,\n",
    "#             p_min=None, p_max=1e+20, c0=0.0)\n",
    "model.add_dvprel1(oid, 'PSHELL', pid_pshell, 'T', dvids, coeffs)\n",
    "\n",
    "# add_desvar(desvar_id, label, xinit, xlb=-1e+20, xub=1e+20,\n",
    "#            delx=None, ddval=None)\n",
    "model.add_desvar(1, 'DIM1', 0.1, xlb=1e-5)\n",
    "model.add_desvar(2, 'DIM2', 0.2, xlb=1e-5)\n",
    "model.add_desvar(3, 'DIM3', 0.3, xlb=1e-5)\n",
    "model.add_desvar(4, 'DIM4', 0.4, xlb=1e-5)\n",
    "model.add_desvar(5, 'DV5', 0.1, xlb=1e-5)\n",
    "\n",
    "#model.add_dlink(6)\n",
    "\n",
    "eid = 10 # TODO: remove\n",
    "load_id = 1\n",
    "# add_pload4(sid, eids, pressures, g1=None, g34=None,\n",
    "#            cid=0, nvector=None, surf_or_line='SURF', line_load_dir='NORM')\n",
    "pload4 = model.add_pload4(load_id, [eid_cquad4], [1., None, None, None],\n",
    "                          comment=' load')\n",
    "#print(pload4.get_stats())\n",
    "\n",
    "eid = 10 # TODO: should be 100\n",
    "scale = 'LE' # TODO: should be 100.\n",
    "# add_pload1(sid, eid, load_type, scale, x1, p1, x2=None, p2=None)\n",
    "model.add_pload1(load_id, eid, 'FZ', scale, 0., 1.)  # TODO: change atti to None\n",
    "\n",
    "# add_eigrl(sid, v1=None, v2=None, nd=None, msglvl=0, maxset=None, shfscl=None,\n",
    "#           norm=None, options=None, values=None)\n",
    "eigrl = model.add_eigrl(42, nd=42)\n",
    "\n",
    "model.sol = 200  # start with 103\n",
    "cc = CaseControlDeck([\n",
    "    'DESOBJ = 102',  # DRESP1\n",
    "    'DESSUB = %s' % dconstr_id,  # DCONSTR\n",
    "    'SUBCASE 1',\n",
    "    '  METHOD = 42',  # TODO: remove\n",
    "    '  LOAD = %s' % load_id,  # TODO: remove\n",
    "    '  SPC = %s' % spc_id,\n",
    "    '  TRIM = 42',  # TODO: add\n",
    "    'ANALYSIS = SAERO',\n",
    "])\n",
    "#print(cc)\n",
    "model.case_control_deck = cc\n",
    "model.validate()\n",
    "\n",
    "\n",
    "model.write_bdf('junk.bdf')\n",
    "#!cat junk.bdf\n",
    "print('----------------------------------------------------------------------------------------------------')"
   ]
  },
  {
   "cell_type": "markdown",
   "metadata": {},
   "source": [
    "## 1.2 读bdf"
   ]
  },
  {
   "cell_type": "code",
   "execution_count": 36,
   "metadata": {},
   "outputs": [
    {
     "data": {
      "text/html": [
       "<text style=color:blue>DEBUG:   bdf.py:995                   ---starting BDF.read_bdf of junk.bdf---\n",
       "</text>"
      ],
      "text/plain": [
       "<IPython.core.display.HTML object>"
      ]
     },
     "metadata": {},
     "output_type": "display_data"
    },
    {
     "data": {
      "text/html": [
       "<text style=color:blue>DEBUG:   pybdf.py:556                 opening 'D:\\\\Notebook\\\\junk.bdf'\n",
       "</text>"
      ],
      "text/plain": [
       "<IPython.core.display.HTML object>"
      ]
     },
     "metadata": {},
     "output_type": "display_data"
    },
    {
     "data": {
      "text/html": [
       "<text style=color:blue>DEBUG:   cross_reference.py:151       Cross Referencing...\n",
       "</text>"
      ],
      "text/plain": [
       "<IPython.core.display.HTML object>"
      ]
     },
     "metadata": {},
     "output_type": "display_data"
    },
    {
     "data": {
      "text/html": [
       "<text style=color:blue>DEBUG:   bdf.py:1043                  ---finished BDF.read_bdf of junk.bdf---\n",
       "</text>"
      ],
      "text/plain": [
       "<IPython.core.display.HTML object>"
      ]
     },
     "metadata": {},
     "output_type": "display_data"
    }
   ],
   "source": [
    "bdf_filename='junk.bdf'\n",
    "model = BDF()\n",
    "model.read_bdf(bdf_filename, xref=True)\n",
    "f = open('junk.out', 'w')\n",
    "for nid,node in sorted(model.nodes.items()):\n",
    "   f.write(node.write_card(size=8, is_double=False))\n",
    "f.close()"
   ]
  }
 ],
 "metadata": {
  "kernelspec": {
   "display_name": "Python 3",
   "language": "python",
   "name": "python3"
  },
  "language_info": {
   "codemirror_mode": {
    "name": "ipython",
    "version": 3
   },
   "file_extension": ".py",
   "mimetype": "text/x-python",
   "name": "python",
   "nbconvert_exporter": "python",
   "pygments_lexer": "ipython3",
   "version": "3.7.3"
  }
 },
 "nbformat": 4,
 "nbformat_minor": 4
}